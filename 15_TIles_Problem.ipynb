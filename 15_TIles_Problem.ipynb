{
  "nbformat": 4,
  "nbformat_minor": 0,
  "metadata": {
    "colab": {
      "provenance": [],
      "authorship_tag": "ABX9TyNp5iTpwVVoEZxxK4MjpBFK",
      "include_colab_link": true
    },
    "kernelspec": {
      "name": "python3",
      "display_name": "Python 3"
    },
    "language_info": {
      "name": "python"
    }
  },
  "cells": [
    {
      "cell_type": "markdown",
      "metadata": {
        "id": "view-in-github",
        "colab_type": "text"
      },
      "source": [
        "<a href=\"https://colab.research.google.com/github/Ashishchhipa/16-Puzzle-Problem/blob/main/15_TIles_Problem.ipynb\" target=\"_parent\"><img src=\"https://colab.research.google.com/assets/colab-badge.svg\" alt=\"Open In Colab\"/></a>"
      ]
    },
    {
      "cell_type": "code",
      "execution_count": 31,
      "metadata": {
        "id": "cCFrBN-LQ-KV"
      },
      "outputs": [],
      "source": [
        "from copy import deepcopy"
      ]
    },
    {
      "cell_type": "code",
      "source": [
        "## Here we are making pairs with their parent Node\n",
        "def Makepairs(NewNode,NodePair):\n",
        "  parent = []\n",
        "  for i in range(len(NewNode)):\n",
        "    temp=[]\n",
        "    temp.append(NewNode[i])\n",
        "    temp.append(NodePair)\n",
        "    parent.append(temp);\n",
        "  return parent"
      ],
      "metadata": {
        "id": "Oab9q7YcSWf0"
      },
      "execution_count": 32,
      "outputs": []
    },
    {
      "cell_type": "code",
      "source": [
        "### Here we are removing Repeated Nodes\n",
        "def RemoveSeen(Closed,children):\n",
        "  ans=[]\n",
        "  for i in range(len(children)):\n",
        "    flag=False\n",
        "    for j in range(len(Closed)):\n",
        "      if children[i]==Closed[j][0]:\n",
        "        flag=True\n",
        "        break\n",
        "    if flag==False:\n",
        "      ans.append(children[i])\n",
        "  return ans"
      ],
      "metadata": {
        "id": "iGBPOwRWSY9f"
      },
      "execution_count": 36,
      "outputs": []
    },
    {
      "cell_type": "code",
      "source": [
        "def Reverse(lst):\n",
        "   new_lst = lst[::-1]\n",
        "   return new_lst\n",
        "\n",
        "## When we find our goal node, then we are going to print all their parents and that node.\n",
        "def ReconstructPath(NodePair,Closed):\n",
        "  parent=[]\n",
        "  parent.append(NodePair)\n",
        "  for i in Closed:\n",
        "        if i[0]==NodePair:\n",
        "          if(NodePair!=i[1]): #(Node, parent (if our Node = Parent is our base condition))\n",
        "            temp=ReconstructPath(i[1],Closed)\n",
        "            for i in temp:\n",
        "                parent.append(i)\n",
        "          else:\n",
        "            break\n",
        "  return parent"
      ],
      "metadata": {
        "id": "ImzYWTuLSbVL"
      },
      "execution_count": 34,
      "outputs": []
    },
    {
      "cell_type": "code",
      "source": [
        "def swap(Nodepair,ni,nj,i,j):\n",
        "    temp = Nodepair[ni][nj];\n",
        "    Nodepair[ni][nj] = Nodepair[i][j];\n",
        "    Nodepair[i][j] = temp;\n",
        "    return Nodepair;"
      ],
      "metadata": {
        "id": "lihNrAXsSd9P"
      },
      "execution_count": 33,
      "outputs": []
    },
    {
      "cell_type": "code",
      "source": [
        "def hammingdist(Node):\n",
        "  h = 0\n",
        "  GoalNode = [[1,2,3,4],\n",
        "            [5,6,7,8],\n",
        "            [9,10,11,12],\n",
        "            [13,14,15,16]]\n",
        "  p = []\n",
        "  for i in range(4):\n",
        "    for j in range(4):\n",
        "      X = GoalNode[i][j] - Node[i][j]\n",
        "      p.append(X)\n",
        "\n",
        "  for i in range(16):\n",
        "    if(p[i]!=0):\n",
        "      h = h+1\n",
        "\n",
        "  return h"
      ],
      "metadata": {
        "id": "9JTbcbKfYZq4"
      },
      "execution_count": 35,
      "outputs": []
    },
    {
      "cell_type": "code",
      "source": [
        "# Generating new nodes by swapping 9 with adjacent positions (right, left, up, down)\n",
        "def MoveGen(Nodepair, i,j):\n",
        "  NewNode = [];\n",
        "  nj = j+1;   ## Right swap\n",
        "  n2j = j-1;  ## Left swap\n",
        "  ni = i-1;   ## Up swap\n",
        "  n2i = i+1;  ## Down swap\n",
        "\n",
        "  if(nj<=3):  ## Right swap\n",
        "    new_pair = deepcopy(Nodepair)\n",
        "    new_pair = swap(new_pair, i, nj, i, j)\n",
        "    h = hammingdist(new_pair)\n",
        "    NewNode.append(new_pair)\n",
        "    NewNode.append(h)\n",
        "\n",
        "  if(n2j>=0 ):## Left swap\n",
        "    new_pair = deepcopy(Nodepair)\n",
        "    new_pair = swap(new_pair, i, n2j, i, j)\n",
        "    h = hammingdist(new_pair)\n",
        "    NewNode.append(new_pair)\n",
        "    NewNode.append(h)\n",
        "\n",
        "  if(ni>=0):## Up swap\n",
        "    new_pair = deepcopy(Nodepair)\n",
        "    new_pair = swap(new_pair, ni, j, i, j)\n",
        "    h = hammingdist(new_pair)\n",
        "    NewNode.append(new_pair)\n",
        "    NewNode.append(h)\n",
        "\n",
        "  if(n2i<=3 ):## Down swap\n",
        "    new_pair = deepcopy(Nodepair)\n",
        "    new_pair = swap(new_pair, n2i, j, i, j)\n",
        "    h = hammingdist(new_pair)\n",
        "    NewNode.append(new_pair)\n",
        "    NewNode.append(h)\n",
        "  return NewNode;"
      ],
      "metadata": {
        "id": "ODZNOnMpRHYa"
      },
      "execution_count": 37,
      "outputs": []
    },
    {
      "cell_type": "code",
      "source": [
        "### Here we are finding 9 number index in our puzzle.\n",
        "def func(NodePair):\n",
        "  for i in range(4):\n",
        "    for j in range(4):\n",
        "      if(NodePair[i][j]==16):\n",
        "        return i,j\n",
        "  return -1,-1"
      ],
      "metadata": {
        "id": "Wx8OT1TxTkxo"
      },
      "execution_count": 38,
      "outputs": []
    },
    {
      "cell_type": "code",
      "source": [
        "def BFS(OpenNode, GoalNode, h):\n",
        "\n",
        "    Open = []\n",
        "    temp = []\n",
        "    temp.append(OpenNode)\n",
        "    temp.append(OpenNode)\n",
        "    temp.append(h)\n",
        "    Open.append(temp)\n",
        "    Closed = []\n",
        "    Closed.append(temp)\n",
        "    while (len(Open) > 0):\n",
        "        NodePair = Open[0][0]\n",
        "        NodeParent = Open[0][1]\n",
        "        NodeDistance = Open[0][2]\n",
        "        Open.pop(0)\n",
        "        if (GoalNode == NodePair):\n",
        "            return ReconstructPath(NodeParent, Closed)\n",
        "        if NodeDistance <= h:\n",
        "            i, j = func(NodePair)\n",
        "            children = MoveGen(NodePair, i, j)\n",
        "            NewNode = RemoveSeen(Closed, children)\n",
        "            NewPairs = Makepairs(NewNode, NodePair)\n",
        "            h = NodeDistance\n",
        "            for it in NewPairs:\n",
        "                Closed.append(it)\n",
        "                Open.append(it)\n",
        "    return None\n"
      ],
      "metadata": {
        "id": "QRBcvWUtXX62"
      },
      "execution_count": 74,
      "outputs": []
    },
    {
      "cell_type": "code",
      "source": [
        "OpenNode = [  [14,2,11,15],\n",
        "              [1,4,8,9],\n",
        "              [6,12,7,13],\n",
        "              [3,5,10,16]]\n",
        "\n",
        "GoalNode = [[1,2,3,4],\n",
        "            [5,6,7,8],\n",
        "            [9,10,11,12],\n",
        "            [13,14,15,16]]\n",
        "\n",
        "\n",
        "temp = BFS(OpenNode , GoalNode , 14)\n",
        "temp = Reverse(temp)\n",
        "temp.append(GoalNode)\n",
        "print(len(temp))\n",
        "for i in temp:\n",
        "  print(i)\n"
      ],
      "metadata": {
        "colab": {
          "base_uri": "https://localhost:8080/",
          "height": 332
        },
        "id": "ySUSrfH1TmvY",
        "outputId": "221b888d-da89-4279-c4cc-d219a4da1bd3"
      },
      "execution_count": 75,
      "outputs": [
        {
          "output_type": "error",
          "ename": "IndexError",
          "evalue": "list index out of range",
          "traceback": [
            "\u001b[0;31m---------------------------------------------------------------------------\u001b[0m",
            "\u001b[0;31mIndexError\u001b[0m                                Traceback (most recent call last)",
            "\u001b[0;32m<ipython-input-75-8b9abe5b1d1b>\u001b[0m in \u001b[0;36m<cell line: 12>\u001b[0;34m()\u001b[0m\n\u001b[1;32m     10\u001b[0m \u001b[0;34m\u001b[0m\u001b[0m\n\u001b[1;32m     11\u001b[0m \u001b[0;34m\u001b[0m\u001b[0m\n\u001b[0;32m---> 12\u001b[0;31m \u001b[0mtemp\u001b[0m \u001b[0;34m=\u001b[0m \u001b[0mBFS\u001b[0m\u001b[0;34m(\u001b[0m\u001b[0mOpenNode\u001b[0m \u001b[0;34m,\u001b[0m \u001b[0mGoalNode\u001b[0m \u001b[0;34m,\u001b[0m \u001b[0;36m14\u001b[0m\u001b[0;34m)\u001b[0m\u001b[0;34m\u001b[0m\u001b[0;34m\u001b[0m\u001b[0m\n\u001b[0m\u001b[1;32m     13\u001b[0m \u001b[0mtemp\u001b[0m \u001b[0;34m=\u001b[0m \u001b[0mReverse\u001b[0m\u001b[0;34m(\u001b[0m\u001b[0mtemp\u001b[0m\u001b[0;34m)\u001b[0m\u001b[0;34m\u001b[0m\u001b[0;34m\u001b[0m\u001b[0m\n\u001b[1;32m     14\u001b[0m \u001b[0mtemp\u001b[0m\u001b[0;34m.\u001b[0m\u001b[0mappend\u001b[0m\u001b[0;34m(\u001b[0m\u001b[0mGoalNode\u001b[0m\u001b[0;34m)\u001b[0m\u001b[0;34m\u001b[0m\u001b[0;34m\u001b[0m\u001b[0m\n",
            "\u001b[0;32m<ipython-input-74-d0f8d640e918>\u001b[0m in \u001b[0;36mBFS\u001b[0;34m(OpenNode, GoalNode, h)\u001b[0m\n\u001b[1;32m     12\u001b[0m         \u001b[0mNodePair\u001b[0m \u001b[0;34m=\u001b[0m \u001b[0mOpen\u001b[0m\u001b[0;34m[\u001b[0m\u001b[0;36m0\u001b[0m\u001b[0;34m]\u001b[0m\u001b[0;34m[\u001b[0m\u001b[0;36m0\u001b[0m\u001b[0;34m]\u001b[0m\u001b[0;34m\u001b[0m\u001b[0;34m\u001b[0m\u001b[0m\n\u001b[1;32m     13\u001b[0m         \u001b[0mNodeParent\u001b[0m \u001b[0;34m=\u001b[0m \u001b[0mOpen\u001b[0m\u001b[0;34m[\u001b[0m\u001b[0;36m0\u001b[0m\u001b[0;34m]\u001b[0m\u001b[0;34m[\u001b[0m\u001b[0;36m1\u001b[0m\u001b[0;34m]\u001b[0m\u001b[0;34m\u001b[0m\u001b[0;34m\u001b[0m\u001b[0m\n\u001b[0;32m---> 14\u001b[0;31m         \u001b[0mNodeDistance\u001b[0m \u001b[0;34m=\u001b[0m \u001b[0mOpen\u001b[0m\u001b[0;34m[\u001b[0m\u001b[0;36m0\u001b[0m\u001b[0;34m]\u001b[0m\u001b[0;34m[\u001b[0m\u001b[0;36m2\u001b[0m\u001b[0;34m]\u001b[0m\u001b[0;34m\u001b[0m\u001b[0;34m\u001b[0m\u001b[0m\n\u001b[0m\u001b[1;32m     15\u001b[0m         \u001b[0mOpen\u001b[0m\u001b[0;34m.\u001b[0m\u001b[0mpop\u001b[0m\u001b[0;34m(\u001b[0m\u001b[0;36m0\u001b[0m\u001b[0;34m)\u001b[0m\u001b[0;34m\u001b[0m\u001b[0;34m\u001b[0m\u001b[0m\n\u001b[1;32m     16\u001b[0m         \u001b[0;32mif\u001b[0m \u001b[0;34m(\u001b[0m\u001b[0mGoalNode\u001b[0m \u001b[0;34m==\u001b[0m \u001b[0mNodePair\u001b[0m\u001b[0;34m)\u001b[0m\u001b[0;34m:\u001b[0m\u001b[0;34m\u001b[0m\u001b[0;34m\u001b[0m\u001b[0m\n",
            "\u001b[0;31mIndexError\u001b[0m: list index out of range"
          ]
        }
      ]
    },
    {
      "cell_type": "code",
      "source": [],
      "metadata": {
        "id": "8Wuw9MfEfAXV"
      },
      "execution_count": null,
      "outputs": []
    }
  ]
}